{
 "cells": [
  {
   "cell_type": "markdown",
   "id": "d932d9d8",
   "metadata": {},
   "source": [
    "*Creado por:*\n",
    "    \n",
    "*Isabel Maniega*"
   ]
  },
  {
   "cell_type": "markdown",
   "id": "29c7552b",
   "metadata": {},
   "source": [
    "# Ejercicio"
   ]
  },
  {
   "cell_type": "markdown",
   "id": "b99e29ad",
   "metadata": {},
   "source": [
    "Tenemos que crear dos tablas dentro de una base de datos llamada \"actividad\":\n",
    "* edición donde tenemos 2 columnas:\n",
    "    * un ID único y que sea incrementado cada vez 1, 2, 3, etc\n",
    "    * número donde vendrá en letra el número de edicción: UNO, DOS, etc\n",
    "* notas donde tendremos 5 columnas:\n",
    "    * ID único y que sea incrementado cada vez 1, 2, 3, etc\n",
    "    * name: nombre de cada alumno (varchar)\n",
    "    * edad: edad de los alumnos (int)\n",
    "    * notas: notas de los alumnos (real)\n",
    "    * ID edic: corresponde al id de la tabla edición.    \n",
    "    \n",
    "**Nota:** https://sqlite.org/lang_createtable.html\n",
    "\n",
    "**AYUDA** Para la tabla edicción:\n",
    "\"INSERT INTO edicion (numero) VALUES('{0}');\".format(num) "
   ]
  },
  {
   "cell_type": "markdown",
   "id": "dd1e7d00",
   "metadata": {},
   "source": [
    "Realizaremos con ayuda de python todo este proceso:"
   ]
  },
  {
   "cell_type": "markdown",
   "id": "6827c687",
   "metadata": {},
   "source": [
    "<img src=\"tabla_exp.png\">"
   ]
  },
  {
   "cell_type": "markdown",
   "id": "52969d47",
   "metadata": {},
   "source": [
    "**Lo primero será crear la conexión a la base de datos:**"
   ]
  },
  {
   "cell_type": "code",
   "execution_count": 21,
   "id": "fb2541d5",
   "metadata": {},
   "outputs": [],
   "source": [
    "import sqlite3\n",
    "\n",
    "\n",
    "conn = sqlite3.connect(\"actividad.db\")\n",
    "\n",
    "cur = conn.cursor()\n",
    "\n",
    "# Close communication with the database\n",
    "conn.commit()\n",
    "cur.close()\n",
    "conn.close()"
   ]
  },
  {
   "cell_type": "markdown",
   "id": "9e9aa2a3",
   "metadata": {},
   "source": [
    "Insertar los siguientes valores de la tabla edición:"
   ]
  },
  {
   "cell_type": "markdown",
   "id": "30924546",
   "metadata": {},
   "source": [
    "<img src=\"tabla_edic.png\">"
   ]
  },
  {
   "cell_type": "markdown",
   "id": "a6b70f04",
   "metadata": {},
   "source": [
    "Insertar los siguientes valores de la tabla notas:"
   ]
  },
  {
   "cell_type": "markdown",
   "id": "dbf10167",
   "metadata": {},
   "source": [
    "<img src=\"tabla_notas.png\">"
   ]
  },
  {
   "cell_type": "markdown",
   "id": "6817bda2",
   "metadata": {},
   "source": [
    "**Creamos un listado para los valores de la tabla para una mejor gestión:**"
   ]
  },
  {
   "cell_type": "code",
   "execution_count": 2,
   "id": "23497cd8",
   "metadata": {},
   "outputs": [],
   "source": [
    "ediciones = [\"UNO\", \"DOS\", \"TRES\"]\n",
    "\n",
    "notas = [{\"name\": 'Isabel Maniega', \"age\": 30, \"notas\": 5.6, \"id_ed\": 1},\n",
    "         {\"name\": 'José Manuel Peña', \"age\": 30, \"notas\": 7.8, \"id_ed\": 1},\n",
    "         {\"name\": 'Pedro López', \"age\": 25, \"notas\": 8.4, \"id_ed\": 2},\n",
    "         {\"name\": 'Amparo Mayora', \"age\": 28, \"notas\": 7.3, \"id_ed\": 3},\n",
    "         {\"name\": 'Juan Martínez', \"age\": 30, \"notas\": 6.8, \"id_ed\": 3},\n",
    "         {\"name\": 'Fernando López', \"age\": 35, \"notas\": 6.1, \"id_ed\": 2},\n",
    "         {\"name\": 'María Castro', \"age\": 41, \"notas\": 5.9, \"id_ed\": 3},\n",
    "         ]"
   ]
  },
  {
   "cell_type": "markdown",
   "id": "bd74a040",
   "metadata": {},
   "source": [
    "**Crearemos primero la tabla edición, ya que la tabla Notas necesita de la tabla edición:**"
   ]
  },
  {
   "cell_type": "code",
   "execution_count": 4,
   "id": "39b8b18b",
   "metadata": {},
   "outputs": [],
   "source": [
    "conn = sqlite3.connect(\"actividad.db\")\n",
    "\n",
    "cur = conn.cursor()\n",
    "\n",
    "def createTablaNotas(cur):\n",
    "    try:\n",
    "        cur.execute(\"CREATE TABLE notas(ID_notas INTEGER PRIMARY KEY,\\\n",
    "                     name varchar(80), age int, grades real,\\\n",
    "                     ID_edic INT REFERENCES edicion(ID_edic));\")\n",
    "    except sqlite3.OperationalError as e:\n",
    "        print(\"Error crear la tabla Notas: %s\" % str(e))\n",
    "\n",
    "def createTablaEdicion(cur):\n",
    "    try:\n",
    "        cur.execute(\"CREATE TABLE edicion(ID_edic INTEGER PRIMARY KEY,\\\n",
    "                     Numero varchar(80));\")\n",
    "    except sqlite3.OperationalError as e:\n",
    "        print(\"Error crear la tabla Edicion: %s\" % str(e))\n",
    "\n",
    "# createTablaEdicion(cur)\n",
    "# createTablaNotas(cur)\n",
    "\n",
    "# Close communication with the database\n",
    "cur.close()\n",
    "conn.close()"
   ]
  },
  {
   "cell_type": "markdown",
   "id": "d18b965f",
   "metadata": {},
   "source": [
    "**Para el ID autoincrementado pondremos: INTEGER y el tipo de clave que es: PRIMARY KEY**\n",
    "        \n",
    "**En el caso de ID_edic podemos hacer referencia al ID_edic de la tabla edición**"
   ]
  },
  {
   "cell_type": "markdown",
   "id": "067a0919",
   "metadata": {},
   "source": [
    "**Insertamos los valores en las tablas creadas anteriormente:**"
   ]
  },
  {
   "cell_type": "code",
   "execution_count": 9,
   "id": "cc090cd6",
   "metadata": {},
   "outputs": [],
   "source": [
    "conn = sqlite3.connect(\"actividad.db\")\n",
    "\n",
    "cur = conn.cursor()\n",
    "\n",
    "def insertarEdicion(cur, value):\n",
    "    try:\n",
    "        cur.execute(f\"INSERT INTO edicion (Numero) VALUES('{value}');\")\n",
    "    except sqlite3.OperationalError as e:\n",
    "        print('Error Insertar dato: %s', str(e))\n",
    "\n",
    "def insertarEdic(cur, ediciones):\n",
    "    for edicion in ediciones:\n",
    "        insertarEdicion(cur,edicion)\n",
    "\n",
    "def insertarNotas(cur, name:str, age:int, notas:float, ID_edic:int):\n",
    "    try:\n",
    "        cur.execute(f\"INSERT INTO notas (Name, age, grades, ID_edic)\\\n",
    "                      VALUES('{name}', {age}, {notas}, {ID_edic});\")\n",
    "    except sqlite3.OperationalError as e:\n",
    "        print(\"Error crear registro: %s\" % str(e))\n",
    "\n",
    "def insertNotas(cur, notas):\n",
    "    for nota in notas:\n",
    "        insertarNotas(cur, nota['name'], nota['age'], nota['notas'], nota['id_ed'])\n",
    "\n",
    "# insertarEdic(cur, ediciones)\n",
    "# insertNotas(cur, notas)\n",
    "\n",
    "# Close communication with the database\n",
    "conn.commit()\n",
    "cur.close()\n",
    "conn.close()"
   ]
  },
  {
   "cell_type": "markdown",
   "id": "655430a7-0559-4b7e-beb2-7a005229afd6",
   "metadata": {},
   "source": [
    "**Otra forma usando executemany**"
   ]
  },
  {
   "cell_type": "code",
   "execution_count": 6,
   "id": "44f676ab-d580-49a1-964c-9e5b8d54d510",
   "metadata": {},
   "outputs": [],
   "source": [
    "import sqlite3\n",
    "\n",
    "conn = sqlite3.connect('actividad.db')\n",
    "c = conn.cursor()\n",
    "\n",
    "ediciones = [(\"UNO\",), (\"DOS\",), (\"TRES\",)]\n",
    "\n",
    "notas = [('Isabel Maniega', 30, 5.6, 1),\n",
    "         ('José Manuel Peña', 30,  7.8, 1),\n",
    "         ('Pedro López', 25, 8.4, 2),\n",
    "         ('Amparo Mayora', 28, 7.3, 3),\n",
    "         ('Juan Martínez', 30, 6.8, 3),\n",
    "         ('Fernando López', 35, 6.1, 2),\n",
    "         ('María Castro', 41, 5.9, 3),\n",
    "         ]\n",
    "c.executemany(\"INSERT INTO notas (Name, age, grades, ID_edic)\\\n",
    "               VALUES(?, ?, ?, ?);\", notas)\n",
    "c.executemany(\"INSERT INTO edicion (Numero) VALUES(?);\", ediciones)\n",
    "conn.commit()\n",
    "conn.close()"
   ]
  },
  {
   "cell_type": "markdown",
   "id": "14c75ccc",
   "metadata": {},
   "source": [
    "Actualizar los datos de las notas de estos dos alumnos:"
   ]
  },
  {
   "cell_type": "markdown",
   "id": "47f52c5f",
   "metadata": {},
   "source": [
    "<img src=\"tabla_actualizar.png\">"
   ]
  },
  {
   "cell_type": "code",
   "execution_count": 10,
   "id": "4dc40294",
   "metadata": {},
   "outputs": [],
   "source": [
    "conn = sqlite3.connect(\"actividad.db\")\n",
    "\n",
    "cur = conn.cursor()\n",
    "\n",
    "def actualizar(cur, tabla:str, nota:float, name:str):\n",
    "    try:\n",
    "        cur.execute(f\"UPDATE {tabla} SET grades={nota} WHERE name='{name}';\")\n",
    "    except sqlite3.OperationalError as e:\n",
    "        print(\"Error actualizar registro: %s\" % str(e))\n",
    "\n",
    "# actualizar(cur, 'notas', 6.4, 'Pedro López')\n",
    "# actualizar(cur, 'notas', 5.2, 'María Castro')\n",
    "\n",
    "# Close communication with the database\n",
    "conn.commit()\n",
    "cur.close()\n",
    "conn.close()"
   ]
  },
  {
   "cell_type": "markdown",
   "id": "8fa751c2",
   "metadata": {},
   "source": [
    "### Realizar:"
   ]
  },
  {
   "cell_type": "markdown",
   "id": "643afc46",
   "metadata": {},
   "source": [
    "* Debemos a continuación leer los dato."
   ]
  },
  {
   "cell_type": "code",
   "execution_count": 13,
   "id": "2153f03b",
   "metadata": {},
   "outputs": [],
   "source": [
    "conn = sqlite3.connect(\"actividad.db\")\n",
    "\n",
    "cur = conn.cursor()\n",
    "\n",
    "def mostrar(cur, tabla:str):\n",
    "    try:\n",
    "        cur.execute(f\"SELECT * FROM {tabla};\")\n",
    "        rows = cur.fetchall()\n",
    "        for row in rows:\n",
    "            print(row)\n",
    "    except sqlite3.OperationalError as e:\n",
    "        print(\"Error mostrar registros: %s\" % str(e))\n",
    "\n",
    "# mostrar(cur, \"notas\")\n",
    "# mostrar(cur, \"edicion\")\n",
    "\n",
    "cur.close()\n",
    "conn.close()"
   ]
  },
  {
   "cell_type": "markdown",
   "id": "e7c3f691",
   "metadata": {},
   "source": [
    "* Buscaremos las notas que se encuentren entorno a 5-6.5"
   ]
  },
  {
   "cell_type": "code",
   "execution_count": 15,
   "id": "57b3d59a",
   "metadata": {},
   "outputs": [],
   "source": [
    "conn = sqlite3.connect(\"actividad.db\")\n",
    "\n",
    "cur = conn.cursor()\n",
    "\n",
    "def filtrar(cur, tabla:str,column:str, nota1:float, nota2:float):\n",
    "    cur.execute(f\"SELECT * FROM {tabla} WHERE {column}\\\n",
    "                  BETWEEN {nota1} AND {nota2};\") \n",
    "    rows = cur.fetchall()\n",
    "    print(f\"\\n---- Datos en tabla {tabla} con\\\n",
    "            {column} entre {nota1} y {nota2}--\\n\") \n",
    "    for row in rows:\n",
    "        print(row)\n",
    "\n",
    "# filtrar(cur, \"notas\", \"grades\", 5.0, 6.5)\n",
    "\n",
    "cur.close()\n",
    "conn.close()"
   ]
  },
  {
   "cell_type": "markdown",
   "id": "aa1dee9c",
   "metadata": {},
   "source": [
    "* Buscaremos los alumnos pertenecientes a la edicción DOS\n",
    "\n",
    "**Nota:** https://www.w3schools.com/sql/sql_join.asp"
   ]
  },
  {
   "cell_type": "code",
   "execution_count": 17,
   "id": "e9dd5f29",
   "metadata": {},
   "outputs": [],
   "source": [
    "conn = sqlite3.connect(\"actividad.db\")\n",
    "\n",
    "cur = conn.cursor()\n",
    "\n",
    "def unirTablas(cur, tabla:str, value:str):\n",
    "    cur.execute(f\"SELECT * FROM {tabla} n INNER JOIN edicion e\\\n",
    "                  ON n.ID_edic = e.ID_edic WHERE numero = '{value}';\")\n",
    "    rows = cur.fetchall()\n",
    "    print(\"\\n---- Datos en de personas en la edicion DOS---\\n\")\n",
    "    for row in rows:\n",
    "        print(row)\n",
    "\n",
    "# unirTablas(cur, \"notas\", 'DOS')\n",
    "\n",
    "cur.close()\n",
    "conn.close()"
   ]
  },
  {
   "cell_type": "markdown",
   "id": "503309f4",
   "metadata": {},
   "source": [
    "* Eliminar al alumno: \"Pedro López\""
   ]
  },
  {
   "cell_type": "code",
   "execution_count": 30,
   "id": "b28178cf",
   "metadata": {},
   "outputs": [],
   "source": [
    "conn = sqlite3.connect(\"actividad.db\")\n",
    "\n",
    "cur = conn.cursor()\n",
    "\n",
    "def delete_data(cur, tabla:str, name:str):\n",
    "    try:\n",
    "        cur.execute(f\"DELETE FROM {tabla} WHERE name=?;\", (name,))\n",
    "    except sqlite3.OperationalError as e:\n",
    "        print('Error eliminar dato: %s', str(e))\n",
    "\n",
    "delete_data(cur, 'notas', \"Pedro López\")\n",
    "\n",
    "conn.commit()\n",
    "cur.close()\n",
    "conn.close()"
   ]
  },
  {
   "cell_type": "markdown",
   "id": "64ad92c3",
   "metadata": {},
   "source": [
    "*Creado por:*\n",
    "    \n",
    "*Isabel Maniega*"
   ]
  }
 ],
 "metadata": {
  "kernelspec": {
   "display_name": "Python 3 (ipykernel)",
   "language": "python",
   "name": "python3"
  },
  "language_info": {
   "codemirror_mode": {
    "name": "ipython",
    "version": 3
   },
   "file_extension": ".py",
   "mimetype": "text/x-python",
   "name": "python",
   "nbconvert_exporter": "python",
   "pygments_lexer": "ipython3",
   "version": "3.12.3"
  },
  "widgets": {
   "application/vnd.jupyter.widget-state+json": {
    "state": {},
    "version_major": 2,
    "version_minor": 0
   }
  }
 },
 "nbformat": 4,
 "nbformat_minor": 5
}
