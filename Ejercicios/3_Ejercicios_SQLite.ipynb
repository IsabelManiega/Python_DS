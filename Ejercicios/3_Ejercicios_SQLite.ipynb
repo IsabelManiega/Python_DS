{
 "cells": [
  {
   "cell_type": "markdown",
   "id": "d932d9d8",
   "metadata": {},
   "source": [
    "*Creado por:*\n",
    "    \n",
    "*Isabel Maniega*"
   ]
  },
  {
   "cell_type": "markdown",
   "id": "29c7552b",
   "metadata": {},
   "source": [
    "# Ejercicio"
   ]
  },
  {
   "cell_type": "markdown",
   "id": "b99e29ad",
   "metadata": {},
   "source": [
    "Tenemos que crear dos tablas dentro de una base de datos llamada \"actividad\":\n",
    "* edición donde tenemos 2 columnas:\n",
    "    * un ID único y que sea incrementado cada vez 1, 2, 3, etc\n",
    "    * número donde vendrá en letra el número de edicción: UNO, DOS, etc\n",
    "* notas donde tendremos 5 columnas:\n",
    "    * ID único y que sea incrementado cada vez 1, 2, 3, etc\n",
    "    * name: nombre de cada alumno (varchar)\n",
    "    * edad: edad de los alumnos (int)\n",
    "    * notas: notas de los alumnos (real)\n",
    "    * ID edic: corresponde al id de la tabla edición.    \n",
    "    \n",
    "**Nota:** https://sqlite.org/lang_createtable.html\n",
    "\n",
    "**AYUDA** Para la tabla edicción:\n",
    "\"INSERT INTO edicion (numero) VALUES('{0}');\".format(num) "
   ]
  },
  {
   "cell_type": "markdown",
   "id": "dd1e7d00",
   "metadata": {},
   "source": [
    "Realizaremos con ayuda de python todo este proceso:"
   ]
  },
  {
   "cell_type": "markdown",
   "id": "6827c687",
   "metadata": {},
   "source": [
    "<img src=\"tabla_exp.png\">"
   ]
  },
  {
   "cell_type": "markdown",
   "id": "9e9aa2a3",
   "metadata": {},
   "source": [
    "Insertar los siguientes valores de la tabla edición:"
   ]
  },
  {
   "cell_type": "markdown",
   "id": "30924546",
   "metadata": {},
   "source": [
    "<img src=\"tabla_edic.png\">"
   ]
  },
  {
   "cell_type": "markdown",
   "id": "a6b70f04",
   "metadata": {},
   "source": [
    "Insertar los siguientes valores de la tabla notas:"
   ]
  },
  {
   "cell_type": "markdown",
   "id": "dbf10167",
   "metadata": {},
   "source": [
    "<img src=\"tabla_notas.png\">"
   ]
  },
  {
   "cell_type": "markdown",
   "id": "14c75ccc",
   "metadata": {},
   "source": [
    "Actualizar los datos de las notas de estos dos alumnos:"
   ]
  },
  {
   "cell_type": "markdown",
   "id": "47f52c5f",
   "metadata": {},
   "source": [
    "<img src=\"tabla_actualizar.png\">"
   ]
  },
  {
   "cell_type": "markdown",
   "id": "8fa751c2",
   "metadata": {},
   "source": [
    "### Realizar:"
   ]
  },
  {
   "cell_type": "markdown",
   "id": "503309f4",
   "metadata": {},
   "source": [
    "* Debemos a continuación leer los datos.\n",
    "* Buscaremos las notas que se encuentren entorno a 5-6.5\n",
    "* Buscaremos los alumnos pertenecientes a la edicción DOS\n",
    "\n",
    "**Nota:** https://www.w3schools.com/sql/sql_join.asp\n",
    "* Eliminar al alumno: \"Pedro López\""
   ]
  },
  {
   "cell_type": "markdown",
   "id": "64ad92c3",
   "metadata": {},
   "source": [
    "*Creado por:*\n",
    "    \n",
    "*Isabel Maniega*"
   ]
  }
 ],
 "metadata": {
  "kernelspec": {
   "display_name": "Python 3 (ipykernel)",
   "language": "python",
   "name": "python3"
  },
  "language_info": {
   "codemirror_mode": {
    "name": "ipython",
    "version": 3
   },
   "file_extension": ".py",
   "mimetype": "text/x-python",
   "name": "python",
   "nbconvert_exporter": "python",
   "pygments_lexer": "ipython3",
   "version": "3.12.3"
  },
  "widgets": {
   "application/vnd.jupyter.widget-state+json": {
    "state": {},
    "version_major": 2,
    "version_minor": 0
   }
  }
 },
 "nbformat": 4,
 "nbformat_minor": 5
}
